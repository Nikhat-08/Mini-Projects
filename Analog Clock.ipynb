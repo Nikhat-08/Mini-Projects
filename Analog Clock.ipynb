{
 "cells": [
  {
   "cell_type": "code",
   "execution_count": 1,
   "id": "0fd9108a",
   "metadata": {},
   "outputs": [],
   "source": [
    "from turtle import Turtle, Screen\n",
    "import datetime"
   ]
  },
  {
   "cell_type": "code",
   "execution_count": 2,
   "id": "cb479f33",
   "metadata": {},
   "outputs": [],
   "source": [
    "window = Screen()\n",
    "window.title(\"Analog Digital Clock\")\n",
    "window.bgcolor(\"black\")\n",
    "window.setup(width = 1000, height = 700)"
   ]
  },
  {
   "cell_type": "code",
   "execution_count": 3,
   "id": "a63f1fa6",
   "metadata": {},
   "outputs": [],
   "source": [
    "circle = Turtle()\n",
    "circle.penup()\n",
    "circle.pencolor(\"#118893\")\n",
    "circle.speed(0)\n",
    "circle.pensize(25)\n",
    "circle.hideturtle()\n",
    "circle.goto(0,-390)\n",
    "circle.pendown()\n",
    "circle.fillcolor(\"#17202A\")\n",
    "circle.begin_fill()\n",
    "circle.circle(400)\n",
    "circle.end_fill()"
   ]
  },
  {
   "cell_type": "code",
   "execution_count": 4,
   "id": "65861936",
   "metadata": {},
   "outputs": [],
   "source": [
    "hHand = Turtle()\n",
    "hHand.shape(\"arrow\")\n",
    "hHand.color(\"white\")\n",
    "hHand.speed(10)\n",
    "hHand.shapesize(stretch_wid = 0.4, stretch_len = 18)"
   ]
  },
  {
   "cell_type": "code",
   "execution_count": 5,
   "id": "d9292e2e",
   "metadata": {},
   "outputs": [],
   "source": [
    "mHand = Turtle()\n",
    "mHand.shape(\"arrow\")\n",
    "mHand.color(\"white\")\n",
    "mHand.speed(10)\n",
    "mHand.shapesize(stretch_wid = 0.4, stretch_len = 26)"
   ]
  },
  {
   "cell_type": "code",
   "execution_count": 6,
   "id": "320827cf",
   "metadata": {},
   "outputs": [],
   "source": [
    "sHand = Turtle()\n",
    "sHand.shape(\"arrow\")\n",
    "sHand.color(\"white\")\n",
    "sHand.speed(10)\n",
    "sHand.shapesize(stretch_wid = 0.4, stretch_len = 36)"
   ]
  },
  {
   "cell_type": "code",
   "execution_count": 7,
   "id": "1d664141",
   "metadata": {},
   "outputs": [],
   "source": [
    "centerCircle = Turtle()\n",
    "centerCircle.shape(\"circle\")\n",
    "centerCircle.color(\"white\")\n",
    "centerCircle.shapesize(stretch_wid = 1.5, stretch_len = 1.5)"
   ]
  },
  {
   "cell_type": "code",
   "execution_count": 8,
   "id": "b7ae82fa",
   "metadata": {},
   "outputs": [],
   "source": [
    "pen = Turtle()\n",
    "pen.speed(0)\n",
    "pen.color(\"white\")"
   ]
  },
  {
   "cell_type": "code",
   "execution_count": 9,
   "id": "61bd96b0",
   "metadata": {},
   "outputs": [],
   "source": [
    "pen.penup()\n",
    "pen.hideturtle()\n",
    "pen.goto(170,260)\n",
    "pen.write(\"1\", align = \"center\", font=(\"Algerian\", 50, \"bold\"))"
   ]
  },
  {
   "cell_type": "code",
   "execution_count": 10,
   "id": "3c830fb8",
   "metadata": {},
   "outputs": [],
   "source": [
    "pen.penup()\n",
    "pen.hideturtle()\n",
    "pen.goto(170,260)\n",
    "pen.write(\"1\", align = \"center\", font=(\"Algerian\", 50, \"bold\"))"
   ]
  },
  {
   "cell_type": "code",
   "execution_count": 11,
   "id": "cbdfb359",
   "metadata": {},
   "outputs": [],
   "source": [
    "pen.penup()\n",
    "pen.hideturtle()\n",
    "pen.goto(300, 140)\n",
    "pen.write(\"2\", align=\"center\", font=(\"Algerian\", 50, \"bold\"))"
   ]
  },
  {
   "cell_type": "code",
   "execution_count": 12,
   "id": "b0384de8",
   "metadata": {},
   "outputs": [],
   "source": [
    "pen.penup()\n",
    "pen.hideturtle()\n",
    "pen.goto(340,-30)\n",
    "pen.write(\"3\", align = \"center\", font=(\"Algerian\", 50, \"bold\"))"
   ]
  },
  {
   "cell_type": "code",
   "execution_count": 13,
   "id": "ea0853ff",
   "metadata": {},
   "outputs": [],
   "source": [
    "pen.penup()\n",
    "pen.hideturtle()\n",
    "pen.goto(300, -200)\n",
    "pen.write(\"4\", align = \"center\", font=(\"Algerian\", 50, \"bold\"))"
   ]
  },
  {
   "cell_type": "code",
   "execution_count": 14,
   "id": "fd11089c",
   "metadata": {},
   "outputs": [],
   "source": [
    "pen.penup()\n",
    "pen.hideturtle()\n",
    "pen.goto(170,-325)\n",
    "pen.write(\"5\", align = \"center\", font=(\"Algerian\", 50, \"bold\"))"
   ]
  },
  {
   "cell_type": "code",
   "execution_count": 15,
   "id": "d54f4db3",
   "metadata": {},
   "outputs": [],
   "source": [
    "pen.penup()\n",
    "pen.hideturtle()\n",
    "pen.goto(0,-370)\n",
    "pen.write(\"6\", align = \"center\", font=(\"Algerian\", 50, \"bold\"))"
   ]
  },
  {
   "cell_type": "code",
   "execution_count": 16,
   "id": "51747947",
   "metadata": {},
   "outputs": [],
   "source": [
    "pen.penup()\n",
    "pen.hideturtle()\n",
    "pen.goto(-170,-325)\n",
    "pen.write(\"7\", align = \"center\", font=(\"Algerian\", 50, \"bold\"))"
   ]
  },
  {
   "cell_type": "code",
   "execution_count": 17,
   "id": "0d8bdf53",
   "metadata": {},
   "outputs": [],
   "source": [
    "pen.penup()\n",
    "pen.hideturtle()\n",
    "pen.goto(-300,-200)\n",
    "pen.write(\"8\", align = \"center\", font=(\"Algerian\", 50, \"bold\"))"
   ]
  },
  {
   "cell_type": "code",
   "execution_count": 18,
   "id": "8578a81c",
   "metadata": {},
   "outputs": [],
   "source": [
    "pen.penup()\n",
    "pen.hideturtle()\n",
    "pen.goto(-340,-30)\n",
    "pen.write(\"9\", align = \"center\", font=(\"Algerian\", 50, \"bold\"))"
   ]
  },
  {
   "cell_type": "code",
   "execution_count": 19,
   "id": "0dbb3e85",
   "metadata": {},
   "outputs": [],
   "source": [
    "pen.penup()\n",
    "pen.hideturtle()\n",
    "pen.goto(-280,140)\n",
    "pen.write(\"10\", align = \"center\", font=(\"Algerian\", 50, \"bold\"))"
   ]
  },
  {
   "cell_type": "code",
   "execution_count": 20,
   "id": "453da228",
   "metadata": {},
   "outputs": [],
   "source": [
    "pen.penup()\n",
    "pen.hideturtle()\n",
    "pen.goto(-160,260)\n",
    "pen.write(\"11\", align = \"center\", font=(\"Algerian\", 50, \"bold\"))"
   ]
  },
  {
   "cell_type": "code",
   "execution_count": 21,
   "id": "ce94c605",
   "metadata": {},
   "outputs": [],
   "source": [
    "pen.penup()\n",
    "pen.hideturtle()\n",
    "pen.goto(0,300)\n",
    "pen.write(\"12\", align = \"center\", font=(\"Algerian\", 50, \"bold\"))"
   ]
  },
  {
   "cell_type": "code",
   "execution_count": 22,
   "id": "2d623680",
   "metadata": {},
   "outputs": [],
   "source": [
    "def movehHand():\n",
    "    currentHourInternal = datetime.datetime.now().hour\n",
    "    degree = (currentHourInternal - 15) * -30\n",
    "    currentMinuteInternal =datetime.datetime.now().minute\n",
    "    degree = degree + -0.5* currentMinuteInternal\n",
    "    hHand.setheading(degree)\n",
    "    window.ontimer(movehHand,60000) "
   ]
  },
  {
   "cell_type": "code",
   "execution_count": 23,
   "id": "84b20d22",
   "metadata": {},
   "outputs": [],
   "source": [
    "def movemHand(): \n",
    "    currentMinuteInternal = datetime.datetime.now().minute\n",
    "    degree =(currentMinuteInternal - 15) *-6\n",
    "    currentSecondInternal =datetime.datetime.now().second\n",
    "    degree = degree + (-currentSecondInternal * 0.1)\n",
    "    mHand.setheading(degree)\n",
    "    window.ontimer(movemHand, 1000)"
   ]
  },
  {
   "cell_type": "code",
   "execution_count": 24,
   "id": "11cee7ec",
   "metadata": {},
   "outputs": [],
   "source": [
    "def movesHand():\n",
    "    currentSecondInternal =datetime.datetime.now().second\n",
    "    degree = (currentSecondInternal- 15) * -6\n",
    "    sHand.setheading(degree)\n",
    "    window.ontimer(movesHand, 1000)"
   ]
  },
  {
   "cell_type": "code",
   "execution_count": 25,
   "id": "115dc1e2",
   "metadata": {},
   "outputs": [],
   "source": [
    "window.ontimer(movehHand, 1)\n",
    "window.ontimer(movemHand, 1)\n",
    "window.ontimer(movesHand, 1)\n",
    "window.exitonclick()"
   ]
  }
 ],
 "metadata": {
  "kernelspec": {
   "display_name": "Python 3 (ipykernel)",
   "language": "python",
   "name": "python3"
  },
  "language_info": {
   "codemirror_mode": {
    "name": "ipython",
    "version": 3
   },
   "file_extension": ".py",
   "mimetype": "text/x-python",
   "name": "python",
   "nbconvert_exporter": "python",
   "pygments_lexer": "ipython3",
   "version": "3.11.7"
  }
 },
 "nbformat": 4,
 "nbformat_minor": 5
}
