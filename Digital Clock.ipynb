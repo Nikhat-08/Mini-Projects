{
 "cells": [
  {
   "cell_type": "code",
   "execution_count": 1,
   "id": "875f7bef",
   "metadata": {},
   "outputs": [],
   "source": [
    "import tkinter as ui\n",
    "import time"
   ]
  },
  {
   "cell_type": "code",
   "execution_count": 2,
   "id": "24d4d9c1",
   "metadata": {},
   "outputs": [],
   "source": [
    "window = ui.Tk()"
   ]
  },
  {
   "cell_type": "code",
   "execution_count": 3,
   "id": "e59de8fe",
   "metadata": {},
   "outputs": [],
   "source": [
    "def update_clock():\n",
    "    hours = time.strftime(\"%I\")\n",
    "    minutes = time.strftime(\"%M\")\n",
    "    seconds = time.strftime(\"%S\")\n",
    "    am_pm = time.strftime(\"%p\")\n",
    "    time_text = hours + \":\" + minutes + \":\" + seconds + am_pm\n",
    "    digital_clock_label.config(text=time_text)\n",
    "    digital_clock_label.after(1000,update_clock)"
   ]
  },
  {
   "cell_type": "code",
   "execution_count": 4,
   "id": "a5421b34",
   "metadata": {},
   "outputs": [],
   "source": [
    "digital_clock_label = ui.Label(window,text = '00:00:00',font = \"Helvetica 72 bold\")\n",
    "digital_clock_label.pack()"
   ]
  },
  {
   "cell_type": "code",
   "execution_count": 5,
   "id": "bf45d631",
   "metadata": {},
   "outputs": [],
   "source": [
    "update_clock()"
   ]
  },
  {
   "cell_type": "code",
   "execution_count": 6,
   "id": "8dbbb8af",
   "metadata": {},
   "outputs": [],
   "source": [
    "window.mainloop()"
   ]
  },
  {
   "cell_type": "code",
   "execution_count": null,
   "id": "66c70488",
   "metadata": {},
   "outputs": [],
   "source": []
  }
 ],
 "metadata": {
  "kernelspec": {
   "display_name": "Python 3 (ipykernel)",
   "language": "python",
   "name": "python3"
  },
  "language_info": {
   "codemirror_mode": {
    "name": "ipython",
    "version": 3
   },
   "file_extension": ".py",
   "mimetype": "text/x-python",
   "name": "python",
   "nbconvert_exporter": "python",
   "pygments_lexer": "ipython3",
   "version": "3.11.7"
  }
 },
 "nbformat": 4,
 "nbformat_minor": 5
}
